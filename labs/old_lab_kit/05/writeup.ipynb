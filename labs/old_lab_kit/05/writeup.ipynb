{
  "nbformat": 4,
  "nbformat_minor": 0,
  "metadata": {
    "colab": {
      "name": "Lab 07.ipynb",
      "provenance": [],
      "collapsed_sections": [],
      "toc_visible": true
    },
    "kernelspec": {
      "display_name": "Python 3",
      "language": "python",
      "name": "python3"
    },
    "language_info": {
      "codemirror_mode": {
        "name": "ipython",
        "version": 3
      },
      "file_extension": ".py",
      "mimetype": "text/x-python",
      "name": "python",
      "nbconvert_exporter": "python",
      "pygments_lexer": "ipython3",
      "version": "3.7.4"
    }
  },
  "cells": [
    {
      "cell_type": "markdown",
      "metadata": {
        "id": "BgzSA_llkU5R"
      },
      "source": [
        "# RadioWare Lab 5 - Heterodyne Frequency Conversion, Tuning\n",
        "\n",
        "## Purpose\n",
        "\n",
        "The purpose of this lab is to fully mature the radio circuits to the point of the heterodyne architecture, involving two stages of up and downconversion.\n",
        "\n",
        "## Outline\n",
        "\n",
        "- Add digital IF upconversion at the Tx and downconversion at the Rx.\n",
        "- Use these measurements to update guidelines on signal levels, range, and frequency separation, ideally showing improvements in dynamic range and resilience to nearby interference.\n",
        "\n",
        "## Background\n",
        "\n",
        "As we observed in Lab 4, even when the transmitted baseband signal is OFF, a sinusoidal signal is still present at the receiver ADALM. This is due to the transmitter mixer LO leakage. \n",
        "\n",
        "### Mixer LO Leakage\n",
        "\n",
        "An RF mixer has two input ports and one output port. The ideal mixer would produce an output that is the product of the two inputs. In frequency terms, the output should be at the sum and difference of the input signal frequency and local oscillator (LO) frequency, nothing else. If either input is undriven there will be no output. However, a real-world mixer will also produce some energy at the LO frequency. The energy at LO frequency can be a problem if it is very close to or within the desired output signal and difficult or impossible to remove by filtering, since the filtering would also filter the desired signal. It is this unwanted energy at LO frequency that is referred to as LO Leakage. The local oscillator, which drives the mixer, has leaked to the mixer’s output port. There are also other paths for the LO to leak to the system output.\n",
        "\n",
        "More details can be found at https://www.analog.com/en/analog-dialogue/articles/transmit-lo-leakage-lol-an-issue-of-zero-if-that-isn-t-making-people-laugh-out-loud.html#\n",
        "\n",
        "Because the TX mixer LO leakage is still present even when the transmitted baseband signal is OFF, at the receiver end it downconverts to our band of interest which is the sinusoidal signal observed at the receiver ADALM. Since energy detection is utilized, the system performance (BER/FER, etc) is transmitter limited. The TX mixer LO leakage should be dealt with before other improvements are included. Heterodyne architecture is introduced to deal with the leakage issue.\n",
        "\n",
        "### Heterodyne \n",
        "\n",
        "Instead of using a zero Intermediate Frequency (IF) in homodyne, heterodyne uses a nonzero IF. In this way the LO leakage and the desired signal have a separation of IF in the frequency spectrum. This enables filtering of the undesired image band as well as the LO leakage."
      ]
    },
    {
      "cell_type": "markdown",
      "metadata": {
        "id": "sJVeWAk9aK3e"
      },
      "source": [
        "## Getting started with heterodyne design\n",
        "\n",
        "### Our heterodyne system\n",
        "In our heterodyne transmitter, we will first use an ADALM to upconvert the baseband signal to an IF band and then use a mixer to upconvert the IF to the RF band. We will use a RF BPF (Band Pass Filter) to filter out the LO leakage and the undesired sideband (either upper sideband or lower sideband). \n",
        "\n",
        "In our heterodyne receiver, we will use another RF BPF to filter out the image signal which may be caused by interference from other transmitters. Then we use a mixer to downconvert the RF to the IF band. An IF BPF will be included to filter out the sum term of the downconversion mixer and preserve the difference term of the downconversion mixer. Finally, we will use an ADALM to downconvert the IF band to baseband.\n",
        "\n",
        "The system block diagram is as follows:\n",
        "<img src=\"https://ndwireless.github.io/radioware/lab5_31.png\" width=\"80%\"> \n",
        "The corresponding spectrum at each stage is as follows:\n",
        "<img src=\"https://ndwireless.github.io/radioware/lab5_32.png\" width=\"60%\"> \n",
        "<img src=\"https://ndwireless.github.io/radioware/lab5_33.png\" width=\"60%\"> "
      ]
    },
    {
      "cell_type": "markdown",
      "metadata": {
        "id": "6xY9dw-naK3f"
      },
      "source": [
        "### Exercise 5.1: LO and IF Design; Fine tune the Antennas"
      ]
    },
    {
      "cell_type": "markdown",
      "metadata": {
        "id": "w_KikJ_HaK3f"
      },
      "source": [
        "#### What we want to do\n",
        "In this exercise we want to design the value of the IF and LO based on the datasheets for the RF BPF. Then we will further tune the antennas from Lab 3 based on the desired sideband center frequency for your design. \n",
        "\n",
        "Note: Before you trim your antennas, ask a TA to verify your design.\n",
        "\n",
        "#### How to do it\n",
        "Theoretically, the larger the IF, the further the desired signal (either upper sideband or lower sideband) is away from LO leakage and the undesired sideband. Larger IF makes filtering of the undesired sideband and the LO leakage easier. However, because we use the ADALM to do the first upconversion, the IF is limited by the ADALM. The ADALM has an LPF (Low Pass Filter) with a cutoff frequency of $25$ MHz. Hence the IF can be no greater than $25$ MHz, and generally must be smaller with a larger bit rate. \n",
        "\n",
        "We know the image and desired signal are centered at LSB = LO - IF and USB = LO + IF, and the leakage falls in between at LO. If you want to preserve LSB and filter out LO and USB, you need the RF BPF to have a small attenuation (or insertion loss) for  your LSB band and a large attenuation for your LO and USB. If you want to preserve USB and filter out LO and LSB, you need the RF BPF to have a small attenuation for your USB band and a large attenuation for your LO and LSB. The insertion loss of the RF BPF at different bands can be found at: https://www.minicircuits.com/pdfs/ZVBP-2400+.pdf\n",
        "\n",
        "Jointly design an LO and IF that meets your requirement. If you preserve LSB, trim your antennas to resonate at LSB. If you preserve USB, trim your antenna to resonate at USB. REMEMBER to ask a TA to verify your design BEFORE trimming your antennas!\n",
        "\n",
        "#### What to include in the lab report\n",
        "1\\. Explain your choice of upper sideband transmission or lower sideband transmission\n",
        "\n",
        "2\\. Fully document and justify your choice of IF, data rate R, and LO.\n",
        "\n",
        "3\\. New FieldFox screenshots of $S_{11}$ for fine tuned antennas."
      ]
    },
    {
      "cell_type": "markdown",
      "metadata": {
        "id": "v60OhEKnaK3g"
      },
      "source": [
        "### Exercise 5.2: Verifing the TX RF BPF performance\n",
        "\n",
        "#### What we want to do\n",
        "This exercise verifies that the TX RF BPF filters out the LO leakage and undesired sideband by checking the frequency spectrum before and after the TX RF BPF.\n",
        "\n",
        "#### How to do it\n",
        "1\\. Make the hardware connections in the following block diagram which is the same as in Lab 4 transmitter. Remember to ensure that all connections are tight.\n",
        "\n",
        "<img src=\"https://ndwireless.github.io/radioware/lab5_43.png\" width=\"60%\">\n",
        "\n",
        "2\\. Run the ADALM power supply program to generate the designed LO in Exercise 5.1 \n",
        "\n",
        "Note: You may need to retune the VCO as done in Lab 4 when you tried to generate a 2.4GHz LO in Lab 4 transmitter.\n",
        "\n",
        "3\\. In the TX ADALM program (attached at the end of the writeup file), set $f_0$ as your designed IF in Exercise 5.1; Set a = np.ones(N). Run the TX ADALM program. \n",
        "\n",
        "Note: This program has two functions - it generates Vtune as well as the baseband signal. a = np.ones(N) in the program specifies all ones symbols in one packet. That is, the transmitted baseband signal is always ON.\n",
        "\n",
        "4\\. Verify the FieldFox readings and save the screenshot for your report.\n",
        "\n",
        "5\\. Add the RF BPF between the mixer and the FieldFox as in the following block diagram and repeat steps 3 and 4.\n",
        "\n",
        "<img src=\"https://ndwireless.github.io/radioware/lab5_44.png\" width=\"60%\">\n",
        "\n",
        "Note: \n",
        "\n",
        "|                     Example result                    |                                                                                                                      Interpretation                                                                                                                     |\n",
        "|:-----------------------------------------------------:|:-------------------------------------------------------------------------------------------------------------------------------------------------------------------------------------------------------------------------------------------------------:|\n",
        "|        <img src=\"https://ndwireless.github.io/radioware/lab5_36.png\" width=\"80%\">        | Signal before TX RF BPF.  |\n",
        "|        <img src=\"https://ndwireless.github.io/radioware/lab5_37.png\" width=\"80%\">        | Signal after TX RF BPF.  |"
      ]
    },
    {
      "cell_type": "markdown",
      "metadata": {
        "id": "2-uWHrSiaK3h"
      },
      "source": [
        "#### What to include in the lab report\n",
        "* A FieldFox screenshot (or python plot of captured data) from before the TX RF BPF and after the TX RF BPF\n",
        "* Interpretation about the heterodyne transmitter frequency spectrum\n",
        "* Explain anything that you observe that did not meet your expectations based upon your design"
      ]
    },
    {
      "cell_type": "markdown",
      "metadata": {
        "id": "4Pu92CLwaK3i"
      },
      "source": [
        "### Exercise 5.3: Verifing the RX RF BPF performance\n",
        "\n",
        "#### What we want to do\n",
        "This exercise verifies that the RX RF BPF filters out the image signal by checking the frequency spectrum before and after the RX RF BPF.\n",
        "\n",
        "#### How to do it\n",
        "1\\. Make the hardware connections in the following block diagram. Set the distance between the TX antenna and the RX antenna to be 5cm.\n",
        "\n",
        "<img src=\"https://ndwireless.github.io/radioware/lab5_45.png\" width=\"60%\">\n",
        "\n",
        "2\\. Repeat steps 2, 3 and 4 in Exercise 5.2.\n",
        "\n",
        "5\\. Add the RF BPF between the RX antenna and the FieldFox as in the following block diagram and repeat step 2.\n",
        "\n",
        "<img src=\"https://ndwireless.github.io/radioware/lab5_46.png\" width=\"60%\">\n",
        "\n",
        "Note: \n",
        "\n",
        "|                     Example result                    |                                                                                                                      Interpretation                                                                                                                     |\n",
        "|:-----------------------------------------------------:|:-------------------------------------------------------------------------------------------------------------------------------------------------------------------------------------------------------------------------------------------------------:|\n",
        "|        <img src=\"https://ndwireless.github.io/radioware/lab5_38.png\" width=\"80%\">        | Signal before RX RF BPF.  |\n",
        "|        <img src=\"https://ndwireless.github.io/radioware/lab5_39.png\" width=\"80%\">        | Signal after RX RF BPF.  |"
      ]
    },
    {
      "cell_type": "markdown",
      "metadata": {
        "id": "IJSivd3caK3i"
      },
      "source": [
        "#### What to include in the lab report\n",
        "* A FieldFox screenshot (or python plot of captured data) from before the RX RF BPF and after the RX RF BPF\n",
        "* Interpretation about the received signal frequency spectrum\n",
        "* Explain anything that you observe that did not meet your expectations based upon your design"
      ]
    },
    {
      "cell_type": "markdown",
      "metadata": {
        "id": "BGdqYs6waK3j"
      },
      "source": [
        "#### Exercise 5.4: Measuring the power ratio at the receiver with the IF BPF\n",
        "\n",
        "\n",
        "##### Block diagram\n",
        "\n",
        "<img src=\"https://ndwireless.github.io/radioware/lab5_35.png\" width=\"80%\">\n",
        "\n",
        "##### Wiring\n",
        "\n",
        "<img src=\"https://ndwireless.github.io/radioware/lab5_42.jpg\" width=\"60%\">\n",
        "\n",
        "##### What we want to do\n",
        "In this exercise, we measure the power ratio at the Heterodyne receiver ADALM input when the transmitted baseband signal is ON and OFF after adding the IF BPF. \n",
        "\n",
        "##### How to do it\n",
        "1\\. Tune RX VCO Vtune to generate a RX LO that is within 1.5 MHz range of the TX LO.\n",
        "\n",
        "For example, if your TX LO is 2.4GHz, your RX LO should be within 2.3985 - 2.4015 GHz.\n",
        "\n",
        "2\\. Connect all the modules as shown in the following block diagram. Set the distance between the TX antenna and the RX antenna to be 5 cm.\n",
        "\n",
        "Note: Make sure you connect the TX ADALM first and the RX ADALM second.\n",
        "\n",
        "3\\. In the TX ADALM program (attached at the end of the writeup file), set $f_0$ as your designed IF in Exercise 5.1; Set a = np.ones(N). Run the TX ADALM program. \n",
        "\n",
        "Note: a = np.ones(N) in the program specifies all ones symbols in one packet. That is, the transmitted baseband signal is always ON. \n",
        "\n",
        "4\\. Run the RX ADALM program (attached at the end of the writeup file). This program has two functions: it generates Vtune as well as reads symbols received by the RX ADALM. Then the received signal power is calculated based on the received samples. \n",
        "\n",
        "##### Please include the following in your lab report\n",
        "* The printed received signal power when the baseband signal is always ON. \n",
        "* The time domain waveform and magnitude squared of the fft of the received signal when the baseband signal is always ON"
      ]
    },
    {
      "cell_type": "markdown",
      "metadata": {
        "id": "ZQl7mPNJaK3k"
      },
      "source": [
        "5\\. In the TX ADALM program (attached at the end of the writeup file), set $f_0$ as your designed IF in Exercise 5.1; Set a = np.zeros(N). Run the TX ADALM program. \n",
        "\n",
        "Note: a = np.zeros(N) in the program specifies all zeros symbols in one packet. That is, the transmitted baseband signal is always OFF. \n",
        "\n",
        "6\\. Run the RX ADALM program (attached at the end of the writeup file) as above. \n",
        "\n",
        "##### Please include the following in your lab report\n",
        "* The printed received signal power when the baseband signal is always OFF. \n",
        "* The time domain waveform and magnitude squared of the fft of the received signal when the baseband signal is always OFF.\n",
        "* Power ratio calculation based on the received signal power measurement:\n",
        "\n",
        "  Power ratio = Received signal power (when transmitted signal is ON) / Received signal power (when transmitted signal is OFF)"
      ]
    },
    {
      "cell_type": "markdown",
      "metadata": {
        "id": "Bi5X9dzOaK3l"
      },
      "source": [
        "###### Example result:\n",
        "\n",
        "1\\. All ones signal\n",
        "\n",
        "Note: Below is a table based on the example results and its interpretation. In the program 1000 symbols are captured and only 2 symbols are plotted. In the FFT plot, the y axis is magnitude squared of the fft $20*log_{10}(|X(f)|)$.\n",
        "\n",
        "<!--As we can observe from the FFT, there are signals at zero frequency (DC offset???) caused by ADALM2000 and the mixer.-->\n",
        "\n",
        "|                     Example result                    |                                                                                                                      Interpretation                                                                                                                     |\n",
        "|:-----------------------------------------------------:|:-------------------------------------------------------------------------------------------------------------------------------------------------------------------------------------------------------------------------------------------------------:|\n",
        "|        <img src=\"https://ndwireless.github.io/radioware/lab5_40.png\" width=\"150%\">        | Received signal time domain waveform is on the top. <br>The corresponding FFT waveform is at the bottom.  |\n",
        "|          Signal mean is  0.031679956147840214          |                                                                                                                        DC offset                                                                                                                        |\n",
        "|    Signal root mean square is  0.008885524975466231    |                                                                                                            Vrms after removing the DC offset                                                                                                            |\n",
        "|            Signal power is  -34.036638118061454          |                                                                                                                  Measured signal power                                                                                                                  |\n",
        "| The peak power is at frequency 20865708.65708657 Hz |                                                                                                      The center frequency of the signal                                                   \n",
        "\n",
        "2\\. All zeros signal\n",
        "\n",
        "|                     Example result                    |\n",
        "|:-----------------------------------------------------:|\n",
        "|        <img src=\"https://ndwireless.github.io/radioware/lab5_41.png\" width=\"100%\">        |\n",
        "|          Signal mean is  0.029400516024659658         |\n",
        "|    Signal root mean square is  0.0013061249653834258    |\n",
        "|          Signal power is  -50.69060534312513          |\n",
        "| The peak power is at frequency 50000000.0 Hz |\n",
        "\n",
        "3\\. Received signal power (transmitted signal ON) / Received signal power (transmitted signal OFF) = 16dB"
      ]
    },
    {
      "cell_type": "markdown",
      "metadata": {
        "id": "ub_cZip6aK3l"
      },
      "source": [
        "##### Exercise 5.5: Verify the performance of your IF, LO and symbol rate design (frequency plan)\n",
        "\n",
        "When ruuning the OOK_transmitter_rf.py and OOK_receiver_rf.py, you could use the optional argument -f0 \"enter your designed IF frequency\" to set the IF frequency to the desired value and use -o \"enter your oversampling factor\" to specify the oversampling factor. Note that the symbol rate is given by: Symbol rate (bit rate) = 75 MHz/oversampling factor, where 75 MHz is the sampling rate of the transmitter.\n",
        "\n",
        "##### What we want to do\n",
        "\n",
        "In this exercise, we are going to examine the performance of the heterodyne transceiver you designed by measuring its Bit Error Rate (BER).\n",
        "##### How to do it\n",
        "\n",
        "Again, set the distance between the transmitter and receiver antennas to be d = 5cm, then run the following commands to measure the BER of your heterodyne transceiver as well as observe the time and frequency domain illustration of the signals in transmission:\n",
        "\n",
        "Python OOK_transmitter_rf.py -s -f0 \"enter your IF frequency here\" -o \"enter your oversampling factor here\" -vtune \"enter your transmitter Vtune\"\n",
        "\n",
        "Python OOK_receiver_rf.py -s -f0 \"enter your IF frequency here\" -o \"enter your oversampling factor\" -v 100 -vtune \"enter your receiver Vtune\"\n",
        "\n",
        "After the programs start running, you may observe significantly less throughput compared with the previous lab. This is largely due to the increased oversampling factor and reduced symbol rate (bit rate) in order to avoid overlapping of the USB and LSB spectrum. \n",
        "\n",
        "Try reduce the oversampling factor from your designed value down to 36, 18, 9 and 6 by using the -o \"enter your oversampling factor\" argument. Observe the variations of BER as well as the time and frequency domain visualizations of the signals. \n",
        "\n",
        "Note: Before you run the OOK_transmitter_rf.py and OOK_receiver_rf.py, run the following code to reset both ADALMs. \n",
        "\n",
        "##### Please include the following in your lab report\n",
        "* The BER of your designed heterodyne transceiver at d = 5 cm.\n",
        "* A screenshot of the time and frequency domain visualizations of the transmitted signals\n",
        "* BER measured by the heterodyne receiver at oversampling factor = 75, 36, 18, 9, 6 at d = 5 cm"
      ]
    },
    {
      "cell_type": "code",
      "metadata": {
        "id": "wQKooGdoaK3m",
        "outputId": "06ed6c7a-616c-4322-e1e6-02b8c14a780f"
      },
      "source": [
        "import libm2k\n",
        "import numpy as np\n",
        "import matplotlib.pyplot as plt\n",
        "from scipy import stats\n",
        "import scipy.fftpack\n",
        "\n",
        "#The following script close all the ADALMs\n",
        "libm2k.contextCloseAll()\n",
        "\n",
        "uri = libm2k.getAllContexts()\n",
        "print(uri)"
      ],
      "execution_count": null,
      "outputs": [
        {
          "name": "stdout",
          "output_type": "stream",
          "text": [
            "('usb:1.28.5', 'usb:1.29.5')\n"
          ]
        }
      ]
    },
    {
      "cell_type": "markdown",
      "metadata": {
        "id": "G0dhU4SAaK3n"
      },
      "source": [
        "##### Please include the following in your lab report\n",
        "\n",
        "* Compare the results from Exercise 4.3 and Exercise 5.4. "
      ]
    },
    {
      "cell_type": "markdown",
      "metadata": {
        "id": "d0_JH_slaK3o"
      },
      "source": [
        "#### Program: TX ADALM2000 (generate Vtune and baseband signal)"
      ]
    },
    {
      "cell_type": "code",
      "metadata": {
        "id": "xAX5rGdzaK3o",
        "outputId": "6cb1d0e3-c786-4b4a-b3d1-0e6447e38e91"
      },
      "source": [
        "#sample code to set dc voltage when ADALM2000 works as an adjustable power supply and generate baseband signal\n",
        "import libm2k\n",
        "import time\n",
        "import numpy as np\n",
        "\n",
        "vtune = 3.712\n",
        "fs = 75e06  # in samples/sec or HZ\n",
        "Ts = 1.0 / fs  # sampling period in seconds\n",
        "f0 = 20e06 # intermediate frequency HZ\n",
        "M = 75  # oversampling factor\n",
        "T = M * Ts  # symbol period in seconds\n",
        "R = 1 / T  # symbol rate\n",
        "N = 10  # length of packet (in symbols)\n",
        "mag = 0.35 # the magnitude of the OOK signal\n",
        "\n",
        "uri = libm2k.getAllContexts()\n",
        "if(len(uri) == 0):\n",
        "    libm2k.contextCloseAll()\n",
        "\n",
        "uri=libm2k.getAllContexts()   \n",
        "sorted_uri = sorted(uri)\n",
        "if(len(uri)==2):                   \n",
        "    ctx=libm2k.m2kOpen(sorted_uri[0])\n",
        "else:\n",
        "    ctx=libm2k.m2kOpen() \n",
        "    \n",
        "ctx.calibrateDAC()\n",
        "\n",
        "ps = ctx.getPowerSupply()\n",
        "ps.enableChannel(0, True)\n",
        "#Use ADALM2000 to generate VCO Vtune\n",
        "ps.pushChannel(0, vtune)\n",
        "\n",
        "aout = ctx.getAnalogOut()\n",
        "aout.setSampleRate(0, fs)\n",
        "aout.enableChannel(0, True)\n",
        "\n",
        "a = np.zeros(N) #all zeros symbols in one period\n",
        "#a = np.ones(N) #all ones symbols in one period\n",
        "#a = np.random.randint(2, size = N) # random sequence of ones and zeros in one period\n",
        "print(\"a: \", a)\n",
        "k = np.linspace(0, N * M, N * M)\n",
        "buffer = mag * np.cos(2 * np.pi * f0 * (k * Ts))\n",
        "for k in range(N):\n",
        "        for m in range(M):\n",
        "                buffer[k * M + m] = a[k] * buffer[k * M + m]\n",
        "\n",
        "aout.setCyclic(True)\n",
        "aout.push(0, buffer)"
      ],
      "execution_count": null,
      "outputs": [
        {
          "name": "stdout",
          "output_type": "stream",
          "text": [
            "a:  [0. 0. 0. 0. 0. 0. 0. 0. 0. 0.]\n"
          ]
        }
      ]
    },
    {
      "cell_type": "markdown",
      "metadata": {
        "id": "wTnAHO0UaK3o"
      },
      "source": [
        "#### Program: RX ADALM2000 (generate Vtune and read the received signal)"
      ]
    },
    {
      "cell_type": "code",
      "metadata": {
        "id": "uB6tKV5zaK3p",
        "outputId": "d6da8b2a-88cf-470d-99a8-b03d045bdb6b"
      },
      "source": [
        "import libm2k\n",
        "import numpy as np\n",
        "import matplotlib.pyplot as plt\n",
        "from scipy import stats\n",
        "import scipy.fftpack\n",
        "\n",
        "#The following script generates Vtune that controls the RX VCO and reads the output signal of the receiver.\n",
        "\n",
        "M = 100\n",
        "vtune = 3.705\n",
        "#open and calibrate ADALM2000\n",
        "uri = libm2k.getAllContexts()\n",
        "if(len(uri) == 0):\n",
        "    libm2k.contextCloseAll()\n",
        "\n",
        "uri=libm2k.getAllContexts()   \n",
        "sorted_uri = sorted(uri)\n",
        "if(len(uri)==2):                   \n",
        "    ctx=libm2k.m2kOpen(sorted_uri[1])\n",
        "else:\n",
        "    ctx=libm2k.m2kOpen() \n",
        "ctx.calibrateDAC()\n",
        "ps = ctx.getPowerSupply()\n",
        "ps.enableChannel(0, True)\n",
        "#Use ADALM2000 to generate VCO Vtune\n",
        "ps.pushChannel(0, vtune)\n",
        "\n",
        "fs = 100e06\n",
        "ts = 1/fs\n",
        "sample_number = M * 1000\n",
        "t = np.linspace(0, sample_number*ts, sample_number)\n",
        "\n",
        "ctx.calibrateADC()\n",
        "\n",
        "ain=ctx.getAnalogIn()\n",
        "ain.enableChannel(0,True)\n",
        "ain.enableChannel(1,True)\n",
        "ain.setSampleRate(fs)  # input sampling rate (Hz) available value: 1000 10000 100000 1000000 10000000 100000000)\n",
        "ain.setRange(0,-2,2)\n",
        "ain.setKernelBuffersCount(20)\n",
        "\n",
        "trig=ain.getTrigger()\n",
        "trig.setAnalogSource(0) \n",
        "trig.setAnalogDelay(0)      # trigger is centered\n",
        "\n",
        "trig.setAnalogMode(0, libm2k.ALWAYS) #trigger under no condition to get samples of the background noise\n",
        "\n",
        "background=ain.getSamples(sample_number)[0]\n",
        "background_sum = sum(background)\n",
        "maximum_noise = max(background)\n",
        "background_average= np.mean(background)\n",
        "\n",
        "print(\"Signal mean is \", background_average)\n",
        "\n",
        "centered_background=background - background_average\n",
        "vrms = np.sqrt(np.mean(np.power(centered_background,2)))\n",
        "print(\"Signal root mean square is \", vrms)\n",
        "print(\"Signal power is \", 10*np.log10((vrms/2)**2*1000/50))\n",
        "\n",
        "xf = np.linspace(-fs/2, fs/2, sample_number)\n",
        "dataf = scipy.fftpack.fftshift(scipy.fftpack.fft(background))\n",
        "dataf1 = scipy.fftpack.fftshift(scipy.fftpack.fft(centered_background))/sample_number\n",
        "rxpeakfreq = xf[np.argmax(abs(dataf1))]\n",
        "print('The peak power is at frequency ' + str(abs(rxpeakfreq)) +' Hz')\n",
        "\n",
        "fig, (ax1, ax2) = plt.subplots(2,1)\n",
        "ax1.set_xlabel('Time(us)')\n",
        "ax1.set_ylabel('Signal Voltage x(t)')\n",
        "ax1.plot(t[0:M*2]*1e06, background[0:M*2])\n",
        "ax2.set_xlabel('Frequency(Hz)')\n",
        "ax2.set_ylabel('Spectrum (20log(|X(f)|))')\n",
        "ax2.plot(xf, 20*np.log10(abs(dataf)))\n",
        "plt.subplots_adjust(hspace = 0.5)\n",
        "plt.savefig('rxsignal.png')\n",
        "plt.show()"
      ],
      "execution_count": null,
      "outputs": [
        {
          "name": "stdout",
          "output_type": "stream",
          "text": [
            "Signal mean is  0.033508744119188374\n",
            "Signal root mean square is  0.0015194203443302746\n",
            "Signal power is  -49.37674121448175\n",
            "The peak power is at frequency 50000000.0 Hz\n"
          ]
        },
        {
          "data": {
            "image/png": "[encoded data removed]",
            "text/plain": [
              "<Figure size 432x288 with 2 Axes>"
            ]
          },
          "metadata": {
            "needs_background": "light"
          },
          "output_type": "display_data"
        }
      ]
    },
    {
      "cell_type": "code",
      "metadata": {
        "id": "UV7xvFl5aK3p"
      },
      "source": [
        ""
      ],
      "execution_count": null,
      "outputs": []
    }
  ]
}